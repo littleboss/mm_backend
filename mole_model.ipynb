{
 "cells": [
  {
   "cell_type": "code",
   "execution_count": 47,
   "metadata": {},
   "outputs": [],
   "source": [
    "import numpy as np\n",
    "from sklearn import linear_model\n",
    "import cv2\n",
    "import sys\n",
    "DATA_COLLECTION_ROOT = \"../data_collection/\""
   ]
  },
  {
   "cell_type": "code",
   "execution_count": 54,
   "metadata": {},
   "outputs": [],
   "source": [
    "with open(DATA_COLLECTION_ROOT + \"train_data.csv\", 'r') as train_csv:\n",
    "    csv = train_csv.readlines()\n",
    "\n",
    "sample_img_shape = cv2.imread(DATA_COLLECTION_ROOT + \"completed/\" + csv[0].split(\",\")[0]).flatten().shape\n",
    "all_x = []\n",
    "all_y = []\n",
    "for i in range(len(csv)):\n",
    "    row = csv[i].split(\",\")\n",
    "    img_path = DATA_COLLECTION_ROOT + \"completed/\" + row[0]\n",
    "    img = cv2.imread(img_path)\n",
    "    img_flattened = img.flatten()\n",
    "    if img_flattened.shape == sample_img_shape:\n",
    "        all_x.append(img_flattened)\n",
    "        all_y.append(int(row[1]))\n",
    "\n",
    "all_x = np.array(all_x)\n",
    "all_y = np.array(all_y)"
   ]
  },
  {
   "cell_type": "code",
   "execution_count": 75,
   "metadata": {},
   "outputs": [],
   "source": [
    "#train_indices = np.random.choice(len(all_x), int(len(all_x)*0.8), replace=False)\n",
    "data_indices = np.arange(len(all_x))\n",
    "np.random.shuffle(data_indices)\n",
    "train_indices = data_indices[:int(len(all_x)*0.90)]\n",
    "test_indices = data_indices[int(len(all_x)*0.90):]\n",
    "test_x = all_x[test_indices]\n",
    "test_y = all_y[test_indices]\n",
    "train_x = all_x[train_indices]\n",
    "train_y = all_y[train_indices]"
   ]
  },
  {
   "cell_type": "code",
   "execution_count": 76,
   "metadata": {},
   "outputs": [
    {
     "data": {
      "text/plain": [
       "LogisticRegression(C=1.0, class_weight=None, dual=False, fit_intercept=True,\n",
       "          intercept_scaling=1, max_iter=100, multi_class='ovr', n_jobs=1,\n",
       "          penalty='l2', random_state=None, solver='liblinear', tol=0.0001,\n",
       "          verbose=0, warm_start=False)"
      ]
     },
     "execution_count": 76,
     "metadata": {},
     "output_type": "execute_result"
    }
   ],
   "source": [
    "logreg = linear_model.LogisticRegression()\n",
    "logreg.fit(train_x, train_y)"
   ]
  },
  {
   "cell_type": "code",
   "execution_count": 77,
   "metadata": {},
   "outputs": [
    {
     "name": "stdout",
     "output_type": "stream",
     "text": [
      "[ 0  0  0  0  0  0 -1  0  0  0  0  0  0  0  0  0  0  0  0  0  0]\n",
      "[0 0 0 0 0 0 1 0 0 0 0 0 0 0 0 0 0 0 0 0 0]\n"
     ]
    }
   ],
   "source": [
    "predictions = logreg.predict(test_x)\n",
    "print predictions - test_y\n",
    "print test_y"
   ]
  },
  {
   "cell_type": "code",
   "execution_count": null,
   "metadata": {
    "collapsed": true
   },
   "outputs": [],
   "source": []
  },
  {
   "cell_type": "code",
   "execution_count": null,
   "metadata": {
    "collapsed": true
   },
   "outputs": [],
   "source": []
  },
  {
   "cell_type": "code",
   "execution_count": null,
   "metadata": {
    "collapsed": true
   },
   "outputs": [],
   "source": []
  }
 ],
 "metadata": {
  "kernelspec": {
   "display_name": "Python 2",
   "language": "python",
   "name": "python2"
  },
  "language_info": {
   "codemirror_mode": {
    "name": "ipython",
    "version": 2
   },
   "file_extension": ".py",
   "mimetype": "text/x-python",
   "name": "python",
   "nbconvert_exporter": "python",
   "pygments_lexer": "ipython2",
   "version": "2.7.13"
  }
 },
 "nbformat": 4,
 "nbformat_minor": 2
}
